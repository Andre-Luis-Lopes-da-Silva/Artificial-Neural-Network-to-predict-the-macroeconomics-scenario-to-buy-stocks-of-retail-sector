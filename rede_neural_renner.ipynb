{
 "cells": [
  {
   "cell_type": "code",
   "execution_count": 95,
   "id": "a49579ef",
   "metadata": {},
   "outputs": [],
   "source": [
    "import pandas as pd\n",
    "dataset = pd.read_csv(\"/home/andre/Desktop/projeto Renner/dataset_b.csv\")\n",
    "# https://iaexpert.academy/2020/05/04/quantas-camadas-escondidas-e-quantos-neuronios-incluir-numa-rede-neural-artificial/"
   ]
  },
  {
   "cell_type": "code",
   "execution_count": 96,
   "id": "398b6092",
   "metadata": {},
   "outputs": [],
   "source": [
    "import tensorflow as tf"
   ]
  },
  {
   "cell_type": "code",
   "execution_count": 97,
   "id": "73477c57",
   "metadata": {},
   "outputs": [],
   "source": [
    "#!pip install tensorflow"
   ]
  },
  {
   "cell_type": "code",
   "execution_count": 98,
   "id": "0eea49e5",
   "metadata": {},
   "outputs": [],
   "source": [
    "dataset['IBC-Br'] = [float(str(i).replace(\",\", \".\")) for i in dataset['IBC-Br']]"
   ]
  },
  {
   "cell_type": "code",
   "execution_count": 99,
   "id": "674171f0",
   "metadata": {},
   "outputs": [
    {
     "data": {
      "text/plain": [
       "0      132.66\n",
       "1      136.18\n",
       "2      144.93\n",
       "3      139.89\n",
       "4      143.23\n",
       "        ...  \n",
       "127    142.05\n",
       "128    138.96\n",
       "129    138.46\n",
       "130    140.22\n",
       "131    141.96\n",
       "Name: IBC-Br, Length: 132, dtype: float64"
      ]
     },
     "execution_count": 99,
     "metadata": {},
     "output_type": "execute_result"
    }
   ],
   "source": [
    "dataset['IBC-Br']"
   ]
  },
  {
   "cell_type": "code",
   "execution_count": 100,
   "id": "f3b7ffc7",
   "metadata": {},
   "outputs": [
    {
     "data": {
      "text/plain": [
       "(132, 5)"
      ]
     },
     "execution_count": 100,
     "metadata": {},
     "output_type": "execute_result"
    }
   ],
   "source": [
    "dataset.shape"
   ]
  },
  {
   "cell_type": "code",
   "execution_count": 101,
   "id": "c81f2868",
   "metadata": {},
   "outputs": [],
   "source": [
    "#dataset.drop(0) # tira a linha 0 \n",
    "new_data_set = dataset.drop(columns=['date'])"
   ]
  },
  {
   "cell_type": "code",
   "execution_count": 102,
   "id": "981ec9ca",
   "metadata": {},
   "outputs": [
    {
     "data": {
      "text/html": [
       "<div>\n",
       "<style scoped>\n",
       "    .dataframe tbody tr th:only-of-type {\n",
       "        vertical-align: middle;\n",
       "    }\n",
       "\n",
       "    .dataframe tbody tr th {\n",
       "        vertical-align: top;\n",
       "    }\n",
       "\n",
       "    .dataframe thead th {\n",
       "        text-align: right;\n",
       "    }\n",
       "</style>\n",
       "<table border=\"1\" class=\"dataframe\">\n",
       "  <thead>\n",
       "    <tr style=\"text-align: right;\">\n",
       "      <th></th>\n",
       "      <th>trend</th>\n",
       "      <th>ipca</th>\n",
       "      <th>selic</th>\n",
       "      <th>IBC-Br</th>\n",
       "    </tr>\n",
       "  </thead>\n",
       "  <tbody>\n",
       "    <tr>\n",
       "      <th>0</th>\n",
       "      <td>Uptrend</td>\n",
       "      <td>0.83</td>\n",
       "      <td>10.943548</td>\n",
       "      <td>132.66</td>\n",
       "    </tr>\n",
       "    <tr>\n",
       "      <th>1</th>\n",
       "      <td>Uptrend</td>\n",
       "      <td>0.80</td>\n",
       "      <td>11.250000</td>\n",
       "      <td>136.18</td>\n",
       "    </tr>\n",
       "    <tr>\n",
       "      <th>2</th>\n",
       "      <td>Uptrend</td>\n",
       "      <td>0.79</td>\n",
       "      <td>11.717742</td>\n",
       "      <td>144.93</td>\n",
       "    </tr>\n",
       "    <tr>\n",
       "      <th>3</th>\n",
       "      <td>Uptrend</td>\n",
       "      <td>0.77</td>\n",
       "      <td>11.800000</td>\n",
       "      <td>139.89</td>\n",
       "    </tr>\n",
       "    <tr>\n",
       "      <th>4</th>\n",
       "      <td>Uptrend</td>\n",
       "      <td>0.47</td>\n",
       "      <td>12.000000</td>\n",
       "      <td>143.23</td>\n",
       "    </tr>\n",
       "  </tbody>\n",
       "</table>\n",
       "</div>"
      ],
      "text/plain": [
       "     trend  ipca      selic  IBC-Br\n",
       "0  Uptrend  0.83  10.943548  132.66\n",
       "1  Uptrend  0.80  11.250000  136.18\n",
       "2  Uptrend  0.79  11.717742  144.93\n",
       "3  Uptrend  0.77  11.800000  139.89\n",
       "4  Uptrend  0.47  12.000000  143.23"
      ]
     },
     "execution_count": 102,
     "metadata": {},
     "output_type": "execute_result"
    }
   ],
   "source": [
    "new_data_set.head()"
   ]
  },
  {
   "cell_type": "code",
   "execution_count": 103,
   "id": "c8f78549",
   "metadata": {},
   "outputs": [],
   "source": [
    "from sklearn.preprocessing import LabelEncoder\n",
    "labelencoder = LabelEncoder()  "
   ]
  },
  {
   "cell_type": "code",
   "execution_count": 104,
   "id": "d84eca4d",
   "metadata": {},
   "outputs": [],
   "source": [
    "y = labelencoder.fit_transform(new_data_set['trend'])"
   ]
  },
  {
   "cell_type": "code",
   "execution_count": 105,
   "id": "2ee5d95c",
   "metadata": {},
   "outputs": [
    {
     "data": {
      "text/plain": [
       "array([1, 1, 1, 1, 1, 1, 1, 1, 1, 1, 1, 1, 1, 1, 1, 1, 1, 1, 1, 1, 1, 1,\n",
       "       1, 1, 1, 1, 1, 1, 1, 1, 1, 1, 1, 1, 1, 1, 1, 1, 1, 1, 1, 1, 1, 1,\n",
       "       1, 1, 1, 1, 1, 1, 1, 1, 1, 1, 1, 1, 1, 1, 1, 1, 1, 1, 1, 1, 1, 1,\n",
       "       1, 1, 1, 1, 1, 1, 1, 1, 1, 1, 1, 1, 1, 1, 1, 1, 1, 1, 1, 1, 1, 1,\n",
       "       1, 1, 1, 1, 1, 1, 1, 1, 1, 1, 1, 1, 1, 1, 1, 1, 1, 1, 1, 1, 1, 0,\n",
       "       0, 0, 0, 0, 0, 0, 0, 0, 0, 0, 0, 0, 0, 0, 0, 0, 0, 0, 0, 0, 0, 0])"
      ]
     },
     "execution_count": 105,
     "metadata": {},
     "output_type": "execute_result"
    }
   ],
   "source": [
    "y"
   ]
  },
  {
   "cell_type": "code",
   "execution_count": 106,
   "id": "49650ef5",
   "metadata": {},
   "outputs": [],
   "source": [
    "previsores = new_data_set.drop(['trend'], axis = 1)\n",
    "X = previsores.iloc[:,0:132].values"
   ]
  },
  {
   "cell_type": "code",
   "execution_count": 107,
   "id": "76a5b87d",
   "metadata": {},
   "outputs": [
    {
     "data": {
      "text/plain": [
       "((99, 3),\n",
       " array([1, 1, 1, 1, 1, 1, 1, 0, 1, 1, 1, 1, 1, 0, 1, 0, 0, 1, 1, 1, 1, 1,\n",
       "        0, 1, 1, 1, 0, 1, 1, 1, 0, 1, 1, 1, 1, 1, 1, 1, 1, 1, 1, 1, 0, 1,\n",
       "        1, 1, 1, 1, 1, 1, 1, 1, 1, 1, 1, 1, 0, 1, 1, 1, 0, 1, 1, 1, 1, 1,\n",
       "        1, 1, 0, 0, 1, 1, 1, 0, 1, 1, 1, 1, 1, 1, 1, 1, 1, 1, 1, 1, 1, 1,\n",
       "        1, 1, 1, 1, 1, 1, 1, 1, 1, 0, 0]))"
      ]
     },
     "execution_count": 107,
     "metadata": {},
     "output_type": "execute_result"
    }
   ],
   "source": [
    "from sklearn.model_selection import train_test_split\n",
    "X_train, X_test, y_train, y_test = train_test_split(X, y, test_size = 0.25)\n",
    "\n",
    "X_train.shape, y_train"
   ]
  },
  {
   "cell_type": "code",
   "execution_count": 108,
   "id": "8498cd24",
   "metadata": {},
   "outputs": [
    {
     "data": {
      "text/plain": [
       "((33, 3),\n",
       " array([1, 0, 1, 1, 0, 0, 1, 1, 1, 1, 1, 1, 1, 1, 1, 1, 0, 1, 0, 0, 0, 1,\n",
       "        1, 0, 1, 1, 1, 1, 1, 1, 1, 1, 1]))"
      ]
     },
     "execution_count": 108,
     "metadata": {},
     "output_type": "execute_result"
    }
   ],
   "source": [
    "X_test.shape, y_test"
   ]
  },
  {
   "cell_type": "code",
   "execution_count": 109,
   "id": "9490d436",
   "metadata": {},
   "outputs": [],
   "source": [
    "# input_shape é igual ao número de atributos\n",
    "# o erro que dava é porque estava tentando usar a activation = 'softmax', quando coloquei a sigmoid deu certo."
   ]
  },
  {
   "cell_type": "code",
   "execution_count": 110,
   "id": "5c492204",
   "metadata": {},
   "outputs": [],
   "source": [
    "rede_neural = tf.keras.models.Sequential()\n",
    "rede_neural.add(tf.keras.layers.Dense(units = 3, activation='relu', input_shape=(3,)))\n",
    "rede_neural.add(tf.keras.layers.Dense(units = 3, activation = 'relu'))\n",
    "rede_neural.add(tf.keras.layers.Dense(units = 3, activation = 'relu'))\n",
    "rede_neural.add(tf.keras.layers.Dense(units = 1, activation = 'sigmoid'))"
   ]
  },
  {
   "cell_type": "code",
   "execution_count": 111,
   "id": "e437124c",
   "metadata": {},
   "outputs": [
    {
     "name": "stdout",
     "output_type": "stream",
     "text": [
      "Model: \"sequential_12\"\n",
      "_________________________________________________________________\n",
      " Layer (type)                Output Shape              Param #   \n",
      "=================================================================\n",
      " dense_38 (Dense)            (None, 3)                 12        \n",
      "                                                                 \n",
      " dense_39 (Dense)            (None, 3)                 12        \n",
      "                                                                 \n",
      " dense_40 (Dense)            (None, 3)                 12        \n",
      "                                                                 \n",
      " dense_41 (Dense)            (None, 1)                 4         \n",
      "                                                                 \n",
      "=================================================================\n",
      "Total params: 40\n",
      "Trainable params: 40\n",
      "Non-trainable params: 0\n",
      "_________________________________________________________________\n"
     ]
    }
   ],
   "source": [
    "rede_neural.summary()"
   ]
  },
  {
   "cell_type": "code",
   "execution_count": 112,
   "id": "d3b7a1f9",
   "metadata": {},
   "outputs": [],
   "source": [
    "rede_neural.compile(optimizer='Adam', loss='binary_crossentropy', metrics = ['accuracy'])"
   ]
  },
  {
   "cell_type": "code",
   "execution_count": 113,
   "id": "c92dc17b",
   "metadata": {},
   "outputs": [
    {
     "name": "stdout",
     "output_type": "stream",
     "text": [
      "Epoch 1/200\n",
      "4/4 [==============================] - 1s 4ms/step - loss: 0.6927 - accuracy: 0.6667\n",
      "Epoch 2/200\n",
      "4/4 [==============================] - 0s 4ms/step - loss: 0.6914 - accuracy: 0.8485\n",
      "Epoch 3/200\n",
      "4/4 [==============================] - 0s 5ms/step - loss: 0.6901 - accuracy: 0.8485\n",
      "Epoch 4/200\n",
      "4/4 [==============================] - 0s 6ms/step - loss: 0.6888 - accuracy: 0.8485\n",
      "Epoch 5/200\n",
      "4/4 [==============================] - 0s 5ms/step - loss: 0.6876 - accuracy: 0.8485\n",
      "Epoch 6/200\n",
      "4/4 [==============================] - 0s 6ms/step - loss: 0.6864 - accuracy: 0.8485\n",
      "Epoch 7/200\n",
      "4/4 [==============================] - 0s 5ms/step - loss: 0.6852 - accuracy: 0.8485\n",
      "Epoch 8/200\n",
      "4/4 [==============================] - 0s 5ms/step - loss: 0.6839 - accuracy: 0.8485\n",
      "Epoch 9/200\n",
      "4/4 [==============================] - 0s 5ms/step - loss: 0.6825 - accuracy: 0.8485\n",
      "Epoch 10/200\n",
      "4/4 [==============================] - 0s 5ms/step - loss: 0.6812 - accuracy: 0.8485\n",
      "Epoch 11/200\n",
      "4/4 [==============================] - 0s 7ms/step - loss: 0.6799 - accuracy: 0.8485\n",
      "Epoch 12/200\n",
      "4/4 [==============================] - 0s 7ms/step - loss: 0.6786 - accuracy: 0.8485\n",
      "Epoch 13/200\n",
      "4/4 [==============================] - 0s 5ms/step - loss: 0.6773 - accuracy: 0.8485\n",
      "Epoch 14/200\n",
      "4/4 [==============================] - 0s 6ms/step - loss: 0.6761 - accuracy: 0.8485\n",
      "Epoch 15/200\n",
      "4/4 [==============================] - 0s 7ms/step - loss: 0.6749 - accuracy: 0.8485\n",
      "Epoch 16/200\n",
      "4/4 [==============================] - 0s 6ms/step - loss: 0.6736 - accuracy: 0.8485\n",
      "Epoch 17/200\n",
      "4/4 [==============================] - 0s 6ms/step - loss: 0.6723 - accuracy: 0.8485\n",
      "Epoch 18/200\n",
      "4/4 [==============================] - 0s 8ms/step - loss: 0.6710 - accuracy: 0.8485\n",
      "Epoch 19/200\n",
      "4/4 [==============================] - 0s 5ms/step - loss: 0.6697 - accuracy: 0.8485\n",
      "Epoch 20/200\n",
      "4/4 [==============================] - 0s 5ms/step - loss: 0.6683 - accuracy: 0.8485\n",
      "Epoch 21/200\n",
      "4/4 [==============================] - 0s 5ms/step - loss: 0.6672 - accuracy: 0.8485\n",
      "Epoch 22/200\n",
      "4/4 [==============================] - 0s 5ms/step - loss: 0.6658 - accuracy: 0.8485\n",
      "Epoch 23/200\n",
      "4/4 [==============================] - 0s 6ms/step - loss: 0.6646 - accuracy: 0.8485\n",
      "Epoch 24/200\n",
      "4/4 [==============================] - 0s 7ms/step - loss: 0.6633 - accuracy: 0.8485\n",
      "Epoch 25/200\n",
      "4/4 [==============================] - 0s 5ms/step - loss: 0.6620 - accuracy: 0.8485\n",
      "Epoch 26/200\n",
      "4/4 [==============================] - 0s 7ms/step - loss: 0.6608 - accuracy: 0.8485\n",
      "Epoch 27/200\n",
      "4/4 [==============================] - 0s 5ms/step - loss: 0.6597 - accuracy: 0.8485\n",
      "Epoch 28/200\n",
      "4/4 [==============================] - 0s 5ms/step - loss: 0.6584 - accuracy: 0.8485\n",
      "Epoch 29/200\n",
      "4/4 [==============================] - 0s 7ms/step - loss: 0.6572 - accuracy: 0.8485\n",
      "Epoch 30/200\n",
      "4/4 [==============================] - 0s 9ms/step - loss: 0.6560 - accuracy: 0.8485\n",
      "Epoch 31/200\n",
      "4/4 [==============================] - 0s 5ms/step - loss: 0.6548 - accuracy: 0.8485\n",
      "Epoch 32/200\n",
      "4/4 [==============================] - 0s 5ms/step - loss: 0.6537 - accuracy: 0.8485\n",
      "Epoch 33/200\n",
      "4/4 [==============================] - 0s 5ms/step - loss: 0.6525 - accuracy: 0.8485\n",
      "Epoch 34/200\n",
      "4/4 [==============================] - 0s 5ms/step - loss: 0.6513 - accuracy: 0.8485\n",
      "Epoch 35/200\n",
      "4/4 [==============================] - 0s 6ms/step - loss: 0.6502 - accuracy: 0.8485\n",
      "Epoch 36/200\n",
      "4/4 [==============================] - 0s 6ms/step - loss: 0.6490 - accuracy: 0.8485\n",
      "Epoch 37/200\n",
      "4/4 [==============================] - 0s 5ms/step - loss: 0.6478 - accuracy: 0.8485\n",
      "Epoch 38/200\n",
      "4/4 [==============================] - 0s 5ms/step - loss: 0.6466 - accuracy: 0.8485\n",
      "Epoch 39/200\n",
      "4/4 [==============================] - 0s 5ms/step - loss: 0.6454 - accuracy: 0.8485\n",
      "Epoch 40/200\n",
      "4/4 [==============================] - 0s 4ms/step - loss: 0.6442 - accuracy: 0.8485\n",
      "Epoch 41/200\n",
      "4/4 [==============================] - 0s 6ms/step - loss: 0.6430 - accuracy: 0.8485\n",
      "Epoch 42/200\n",
      "4/4 [==============================] - 0s 5ms/step - loss: 0.6417 - accuracy: 0.8485\n",
      "Epoch 43/200\n",
      "4/4 [==============================] - 0s 6ms/step - loss: 0.6406 - accuracy: 0.8485\n",
      "Epoch 44/200\n",
      "4/4 [==============================] - 0s 6ms/step - loss: 0.6395 - accuracy: 0.8485\n",
      "Epoch 45/200\n",
      "4/4 [==============================] - 0s 6ms/step - loss: 0.6384 - accuracy: 0.8485\n",
      "Epoch 46/200\n",
      "4/4 [==============================] - 0s 5ms/step - loss: 0.6372 - accuracy: 0.8485\n",
      "Epoch 47/200\n",
      "4/4 [==============================] - 0s 6ms/step - loss: 0.6361 - accuracy: 0.8485\n",
      "Epoch 48/200\n",
      "4/4 [==============================] - 0s 6ms/step - loss: 0.6350 - accuracy: 0.8485\n",
      "Epoch 49/200\n",
      "4/4 [==============================] - 0s 6ms/step - loss: 0.6339 - accuracy: 0.8485\n",
      "Epoch 50/200\n",
      "4/4 [==============================] - 0s 5ms/step - loss: 0.6328 - accuracy: 0.8485\n",
      "Epoch 51/200\n",
      "4/4 [==============================] - 0s 5ms/step - loss: 0.6317 - accuracy: 0.8485\n",
      "Epoch 52/200\n",
      "4/4 [==============================] - 0s 7ms/step - loss: 0.6307 - accuracy: 0.8485\n",
      "Epoch 53/200\n",
      "4/4 [==============================] - 0s 5ms/step - loss: 0.6296 - accuracy: 0.8485\n",
      "Epoch 54/200\n",
      "4/4 [==============================] - 0s 5ms/step - loss: 0.6285 - accuracy: 0.8485\n",
      "Epoch 55/200\n",
      "4/4 [==============================] - 0s 6ms/step - loss: 0.6275 - accuracy: 0.8485\n",
      "Epoch 56/200\n",
      "4/4 [==============================] - 0s 7ms/step - loss: 0.6264 - accuracy: 0.8485\n",
      "Epoch 57/200\n",
      "4/4 [==============================] - 0s 5ms/step - loss: 0.6254 - accuracy: 0.8485\n",
      "Epoch 58/200\n",
      "4/4 [==============================] - 0s 5ms/step - loss: 0.6245 - accuracy: 0.8485\n",
      "Epoch 59/200\n",
      "4/4 [==============================] - 0s 5ms/step - loss: 0.6235 - accuracy: 0.8485\n",
      "Epoch 60/200\n",
      "4/4 [==============================] - 0s 4ms/step - loss: 0.6225 - accuracy: 0.8485\n",
      "Epoch 61/200\n",
      "4/4 [==============================] - 0s 5ms/step - loss: 0.6215 - accuracy: 0.8485\n",
      "Epoch 62/200\n",
      "4/4 [==============================] - 0s 5ms/step - loss: 0.6205 - accuracy: 0.8485\n",
      "Epoch 63/200\n",
      "4/4 [==============================] - 0s 3ms/step - loss: 0.6195 - accuracy: 0.8485\n",
      "Epoch 64/200\n",
      "4/4 [==============================] - 0s 4ms/step - loss: 0.6184 - accuracy: 0.8485\n",
      "Epoch 65/200\n",
      "4/4 [==============================] - 0s 5ms/step - loss: 0.6174 - accuracy: 0.8485\n",
      "Epoch 66/200\n",
      "4/4 [==============================] - 0s 3ms/step - loss: 0.6163 - accuracy: 0.8485\n",
      "Epoch 67/200\n",
      "4/4 [==============================] - 0s 4ms/step - loss: 0.6153 - accuracy: 0.8485\n",
      "Epoch 68/200\n",
      "4/4 [==============================] - 0s 4ms/step - loss: 0.6143 - accuracy: 0.8485\n",
      "Epoch 69/200\n",
      "4/4 [==============================] - 0s 6ms/step - loss: 0.6134 - accuracy: 0.8485\n",
      "Epoch 70/200\n",
      "4/4 [==============================] - 0s 6ms/step - loss: 0.6125 - accuracy: 0.8485\n",
      "Epoch 71/200\n",
      "4/4 [==============================] - 0s 4ms/step - loss: 0.6115 - accuracy: 0.8485\n",
      "Epoch 72/200\n",
      "4/4 [==============================] - 0s 6ms/step - loss: 0.6107 - accuracy: 0.8485\n",
      "Epoch 73/200\n",
      "4/4 [==============================] - 0s 5ms/step - loss: 0.6098 - accuracy: 0.8485\n",
      "Epoch 74/200\n",
      "4/4 [==============================] - 0s 6ms/step - loss: 0.6090 - accuracy: 0.8485\n",
      "Epoch 75/200\n",
      "4/4 [==============================] - 0s 4ms/step - loss: 0.6082 - accuracy: 0.8485\n",
      "Epoch 76/200\n",
      "4/4 [==============================] - 0s 5ms/step - loss: 0.6073 - accuracy: 0.8485\n",
      "Epoch 77/200\n",
      "4/4 [==============================] - 0s 4ms/step - loss: 0.6064 - accuracy: 0.8485\n",
      "Epoch 78/200\n",
      "4/4 [==============================] - 0s 4ms/step - loss: 0.6054 - accuracy: 0.8485\n",
      "Epoch 79/200\n",
      "4/4 [==============================] - 0s 4ms/step - loss: 0.6045 - accuracy: 0.8485\n",
      "Epoch 80/200\n",
      "4/4 [==============================] - 0s 3ms/step - loss: 0.6036 - accuracy: 0.8485\n",
      "Epoch 81/200\n",
      "4/4 [==============================] - 0s 4ms/step - loss: 0.6027 - accuracy: 0.8485\n",
      "Epoch 82/200\n",
      "4/4 [==============================] - 0s 5ms/step - loss: 0.6018 - accuracy: 0.8485\n",
      "Epoch 83/200\n",
      "4/4 [==============================] - 0s 4ms/step - loss: 0.6009 - accuracy: 0.8485\n",
      "Epoch 84/200\n"
     ]
    },
    {
     "name": "stdout",
     "output_type": "stream",
     "text": [
      "4/4 [==============================] - 0s 5ms/step - loss: 0.5999 - accuracy: 0.8485\n",
      "Epoch 85/200\n",
      "4/4 [==============================] - 0s 6ms/step - loss: 0.5990 - accuracy: 0.8485\n",
      "Epoch 86/200\n",
      "4/4 [==============================] - 0s 5ms/step - loss: 0.5980 - accuracy: 0.8485\n",
      "Epoch 87/200\n",
      "4/4 [==============================] - 0s 4ms/step - loss: 0.5971 - accuracy: 0.8485\n",
      "Epoch 88/200\n",
      "4/4 [==============================] - 0s 4ms/step - loss: 0.5962 - accuracy: 0.8485\n",
      "Epoch 89/200\n",
      "4/4 [==============================] - 0s 4ms/step - loss: 0.5953 - accuracy: 0.8485\n",
      "Epoch 90/200\n",
      "4/4 [==============================] - 0s 4ms/step - loss: 0.5943 - accuracy: 0.8485\n",
      "Epoch 91/200\n",
      "4/4 [==============================] - 0s 5ms/step - loss: 0.5935 - accuracy: 0.8485\n",
      "Epoch 92/200\n",
      "4/4 [==============================] - 0s 3ms/step - loss: 0.5926 - accuracy: 0.8485\n",
      "Epoch 93/200\n",
      "4/4 [==============================] - 0s 4ms/step - loss: 0.5917 - accuracy: 0.8485\n",
      "Epoch 94/200\n",
      "4/4 [==============================] - 0s 6ms/step - loss: 0.5909 - accuracy: 0.8485\n",
      "Epoch 95/200\n",
      "4/4 [==============================] - 0s 5ms/step - loss: 0.5900 - accuracy: 0.8485\n",
      "Epoch 96/200\n",
      "4/4 [==============================] - 0s 5ms/step - loss: 0.5892 - accuracy: 0.8485\n",
      "Epoch 97/200\n",
      "4/4 [==============================] - 0s 4ms/step - loss: 0.5884 - accuracy: 0.8485\n",
      "Epoch 98/200\n",
      "4/4 [==============================] - 0s 4ms/step - loss: 0.5875 - accuracy: 0.8485\n",
      "Epoch 99/200\n",
      "4/4 [==============================] - 0s 5ms/step - loss: 0.5866 - accuracy: 0.8485\n",
      "Epoch 100/200\n",
      "4/4 [==============================] - 0s 5ms/step - loss: 0.5857 - accuracy: 0.8485\n",
      "Epoch 101/200\n",
      "4/4 [==============================] - 0s 5ms/step - loss: 0.5849 - accuracy: 0.8485\n",
      "Epoch 102/200\n",
      "4/4 [==============================] - 0s 3ms/step - loss: 0.5840 - accuracy: 0.8485\n",
      "Epoch 103/200\n",
      "4/4 [==============================] - 0s 4ms/step - loss: 0.5832 - accuracy: 0.8485\n",
      "Epoch 104/200\n",
      "4/4 [==============================] - 0s 3ms/step - loss: 0.5823 - accuracy: 0.8485\n",
      "Epoch 105/200\n",
      "4/4 [==============================] - 0s 5ms/step - loss: 0.5815 - accuracy: 0.8485\n",
      "Epoch 106/200\n",
      "4/4 [==============================] - 0s 6ms/step - loss: 0.5806 - accuracy: 0.8485\n",
      "Epoch 107/200\n",
      "4/4 [==============================] - 0s 4ms/step - loss: 0.5798 - accuracy: 0.8485\n",
      "Epoch 108/200\n",
      "4/4 [==============================] - 0s 4ms/step - loss: 0.5790 - accuracy: 0.8485\n",
      "Epoch 109/200\n",
      "4/4 [==============================] - 0s 5ms/step - loss: 0.5782 - accuracy: 0.8485\n",
      "Epoch 110/200\n",
      "4/4 [==============================] - 0s 5ms/step - loss: 0.5774 - accuracy: 0.8485\n",
      "Epoch 111/200\n",
      "4/4 [==============================] - 0s 5ms/step - loss: 0.5766 - accuracy: 0.8485\n",
      "Epoch 112/200\n",
      "4/4 [==============================] - 0s 4ms/step - loss: 0.5759 - accuracy: 0.8485\n",
      "Epoch 113/200\n",
      "4/4 [==============================] - 0s 5ms/step - loss: 0.5751 - accuracy: 0.8485\n",
      "Epoch 114/200\n",
      "4/4 [==============================] - 0s 5ms/step - loss: 0.5744 - accuracy: 0.8485\n",
      "Epoch 115/200\n",
      "4/4 [==============================] - 0s 4ms/step - loss: 0.5736 - accuracy: 0.8485\n",
      "Epoch 116/200\n",
      "4/4 [==============================] - 0s 4ms/step - loss: 0.5728 - accuracy: 0.8485\n",
      "Epoch 117/200\n",
      "4/4 [==============================] - 0s 4ms/step - loss: 0.5721 - accuracy: 0.8485\n",
      "Epoch 118/200\n",
      "4/4 [==============================] - 0s 4ms/step - loss: 0.5713 - accuracy: 0.8485\n",
      "Epoch 119/200\n",
      "4/4 [==============================] - 0s 4ms/step - loss: 0.5705 - accuracy: 0.8485\n",
      "Epoch 120/200\n",
      "4/4 [==============================] - 0s 5ms/step - loss: 0.5696 - accuracy: 0.8485\n",
      "Epoch 121/200\n",
      "4/4 [==============================] - 0s 4ms/step - loss: 0.5689 - accuracy: 0.8485\n",
      "Epoch 122/200\n",
      "4/4 [==============================] - 0s 4ms/step - loss: 0.5681 - accuracy: 0.8485\n",
      "Epoch 123/200\n",
      "4/4 [==============================] - 0s 4ms/step - loss: 0.5673 - accuracy: 0.8485\n",
      "Epoch 124/200\n",
      "4/4 [==============================] - 0s 5ms/step - loss: 0.5666 - accuracy: 0.8485\n",
      "Epoch 125/200\n",
      "4/4 [==============================] - 0s 6ms/step - loss: 0.5658 - accuracy: 0.8485\n",
      "Epoch 126/200\n",
      "4/4 [==============================] - 0s 4ms/step - loss: 0.5650 - accuracy: 0.8485\n",
      "Epoch 127/200\n",
      "4/4 [==============================] - 0s 4ms/step - loss: 0.5642 - accuracy: 0.8485\n",
      "Epoch 128/200\n",
      "4/4 [==============================] - 0s 5ms/step - loss: 0.5634 - accuracy: 0.8485\n",
      "Epoch 129/200\n",
      "4/4 [==============================] - 0s 5ms/step - loss: 0.5625 - accuracy: 0.8485\n",
      "Epoch 130/200\n",
      "4/4 [==============================] - 0s 4ms/step - loss: 0.5617 - accuracy: 0.8485\n",
      "Epoch 131/200\n",
      "4/4 [==============================] - 0s 4ms/step - loss: 0.5609 - accuracy: 0.8485\n",
      "Epoch 132/200\n",
      "4/4 [==============================] - 0s 4ms/step - loss: 0.5601 - accuracy: 0.8485\n",
      "Epoch 133/200\n",
      "4/4 [==============================] - 0s 3ms/step - loss: 0.5594 - accuracy: 0.8485\n",
      "Epoch 134/200\n",
      "4/4 [==============================] - 0s 4ms/step - loss: 0.5586 - accuracy: 0.8485\n",
      "Epoch 135/200\n",
      "4/4 [==============================] - 0s 4ms/step - loss: 0.5579 - accuracy: 0.8485\n",
      "Epoch 136/200\n",
      "4/4 [==============================] - 0s 4ms/step - loss: 0.5573 - accuracy: 0.8485\n",
      "Epoch 137/200\n",
      "4/4 [==============================] - 0s 4ms/step - loss: 0.5567 - accuracy: 0.8485\n",
      "Epoch 138/200\n",
      "4/4 [==============================] - 0s 4ms/step - loss: 0.5559 - accuracy: 0.8485\n",
      "Epoch 139/200\n",
      "4/4 [==============================] - 0s 3ms/step - loss: 0.5552 - accuracy: 0.8485\n",
      "Epoch 140/200\n",
      "4/4 [==============================] - 0s 5ms/step - loss: 0.5545 - accuracy: 0.8485\n",
      "Epoch 141/200\n",
      "4/4 [==============================] - 0s 4ms/step - loss: 0.5537 - accuracy: 0.8485\n",
      "Epoch 142/200\n",
      "4/4 [==============================] - 0s 4ms/step - loss: 0.5530 - accuracy: 0.8485\n",
      "Epoch 143/200\n",
      "4/4 [==============================] - 0s 3ms/step - loss: 0.5523 - accuracy: 0.8485\n",
      "Epoch 144/200\n",
      "4/4 [==============================] - 0s 3ms/step - loss: 0.5516 - accuracy: 0.8485\n",
      "Epoch 145/200\n",
      "4/4 [==============================] - 0s 4ms/step - loss: 0.5509 - accuracy: 0.8485\n",
      "Epoch 146/200\n",
      "4/4 [==============================] - 0s 5ms/step - loss: 0.5502 - accuracy: 0.8485\n",
      "Epoch 147/200\n",
      "4/4 [==============================] - 0s 4ms/step - loss: 0.5496 - accuracy: 0.8485\n",
      "Epoch 148/200\n",
      "4/4 [==============================] - 0s 5ms/step - loss: 0.5489 - accuracy: 0.8485\n",
      "Epoch 149/200\n",
      "4/4 [==============================] - 0s 4ms/step - loss: 0.5482 - accuracy: 0.8485\n",
      "Epoch 150/200\n",
      "4/4 [==============================] - 0s 4ms/step - loss: 0.5475 - accuracy: 0.8485\n",
      "Epoch 151/200\n",
      "4/4 [==============================] - 0s 4ms/step - loss: 0.5468 - accuracy: 0.8485\n",
      "Epoch 152/200\n",
      "4/4 [==============================] - 0s 3ms/step - loss: 0.5461 - accuracy: 0.8485\n",
      "Epoch 153/200\n",
      "4/4 [==============================] - 0s 3ms/step - loss: 0.5454 - accuracy: 0.8485\n",
      "Epoch 154/200\n",
      "4/4 [==============================] - 0s 4ms/step - loss: 0.5447 - accuracy: 0.8485\n",
      "Epoch 155/200\n",
      "4/4 [==============================] - 0s 5ms/step - loss: 0.5440 - accuracy: 0.8485\n",
      "Epoch 156/200\n",
      "4/4 [==============================] - 0s 4ms/step - loss: 0.5433 - accuracy: 0.8485\n",
      "Epoch 157/200\n",
      "4/4 [==============================] - 0s 4ms/step - loss: 0.5426 - accuracy: 0.8485\n",
      "Epoch 158/200\n",
      "4/4 [==============================] - 0s 5ms/step - loss: 0.5419 - accuracy: 0.8485\n",
      "Epoch 159/200\n",
      "4/4 [==============================] - 0s 5ms/step - loss: 0.5412 - accuracy: 0.8485\n",
      "Epoch 160/200\n",
      "4/4 [==============================] - 0s 3ms/step - loss: 0.5405 - accuracy: 0.8485\n",
      "Epoch 161/200\n",
      "4/4 [==============================] - 0s 4ms/step - loss: 0.5397 - accuracy: 0.8485\n",
      "Epoch 162/200\n",
      "4/4 [==============================] - 0s 3ms/step - loss: 0.5391 - accuracy: 0.8485\n",
      "Epoch 163/200\n",
      "4/4 [==============================] - 0s 6ms/step - loss: 0.5384 - accuracy: 0.8485\n",
      "Epoch 164/200\n",
      "4/4 [==============================] - 0s 5ms/step - loss: 0.5377 - accuracy: 0.8485\n",
      "Epoch 165/200\n",
      "4/4 [==============================] - 0s 4ms/step - loss: 0.5371 - accuracy: 0.8485\n",
      "Epoch 166/200\n",
      "4/4 [==============================] - 0s 4ms/step - loss: 0.5364 - accuracy: 0.8485\n",
      "Epoch 167/200\n"
     ]
    },
    {
     "name": "stdout",
     "output_type": "stream",
     "text": [
      "4/4 [==============================] - 0s 5ms/step - loss: 0.5358 - accuracy: 0.8485\n",
      "Epoch 168/200\n",
      "4/4 [==============================] - 0s 4ms/step - loss: 0.5352 - accuracy: 0.8485\n",
      "Epoch 169/200\n",
      "4/4 [==============================] - 0s 3ms/step - loss: 0.5346 - accuracy: 0.8485\n",
      "Epoch 170/200\n",
      "4/4 [==============================] - 0s 5ms/step - loss: 0.5341 - accuracy: 0.8485\n",
      "Epoch 171/200\n",
      "4/4 [==============================] - 0s 3ms/step - loss: 0.5335 - accuracy: 0.8485\n",
      "Epoch 172/200\n",
      "4/4 [==============================] - 0s 4ms/step - loss: 0.5330 - accuracy: 0.8485\n",
      "Epoch 173/200\n",
      "4/4 [==============================] - 0s 4ms/step - loss: 0.5325 - accuracy: 0.8485\n",
      "Epoch 174/200\n",
      "4/4 [==============================] - 0s 4ms/step - loss: 0.5320 - accuracy: 0.8485\n",
      "Epoch 175/200\n",
      "4/4 [==============================] - 0s 3ms/step - loss: 0.5314 - accuracy: 0.8485\n",
      "Epoch 176/200\n",
      "4/4 [==============================] - 0s 5ms/step - loss: 0.5308 - accuracy: 0.8485\n",
      "Epoch 177/200\n",
      "4/4 [==============================] - 0s 4ms/step - loss: 0.5302 - accuracy: 0.8485\n",
      "Epoch 178/200\n",
      "4/4 [==============================] - 0s 4ms/step - loss: 0.5296 - accuracy: 0.8485\n",
      "Epoch 179/200\n",
      "4/4 [==============================] - 0s 4ms/step - loss: 0.5292 - accuracy: 0.8485\n",
      "Epoch 180/200\n",
      "4/4 [==============================] - 0s 4ms/step - loss: 0.5287 - accuracy: 0.8485\n",
      "Epoch 181/200\n",
      "4/4 [==============================] - 0s 5ms/step - loss: 0.5283 - accuracy: 0.8485\n",
      "Epoch 182/200\n",
      "4/4 [==============================] - 0s 4ms/step - loss: 0.5278 - accuracy: 0.8485\n",
      "Epoch 183/200\n",
      "4/4 [==============================] - 0s 5ms/step - loss: 0.5274 - accuracy: 0.8485\n",
      "Epoch 184/200\n",
      "4/4 [==============================] - 0s 5ms/step - loss: 0.5270 - accuracy: 0.8485\n",
      "Epoch 185/200\n",
      "4/4 [==============================] - 0s 3ms/step - loss: 0.5265 - accuracy: 0.8485\n",
      "Epoch 186/200\n",
      "4/4 [==============================] - 0s 4ms/step - loss: 0.5259 - accuracy: 0.8485\n",
      "Epoch 187/200\n",
      "4/4 [==============================] - 0s 4ms/step - loss: 0.5255 - accuracy: 0.8485\n",
      "Epoch 188/200\n",
      "4/4 [==============================] - 0s 5ms/step - loss: 0.5249 - accuracy: 0.8485\n",
      "Epoch 189/200\n",
      "4/4 [==============================] - 0s 3ms/step - loss: 0.5244 - accuracy: 0.8485\n",
      "Epoch 190/200\n",
      "4/4 [==============================] - 0s 4ms/step - loss: 0.5238 - accuracy: 0.8485\n",
      "Epoch 191/200\n",
      "4/4 [==============================] - 0s 4ms/step - loss: 0.5233 - accuracy: 0.8485\n",
      "Epoch 192/200\n",
      "4/4 [==============================] - 0s 5ms/step - loss: 0.5228 - accuracy: 0.8485\n",
      "Epoch 193/200\n",
      "4/4 [==============================] - 0s 4ms/step - loss: 0.5222 - accuracy: 0.8485\n",
      "Epoch 194/200\n",
      "4/4 [==============================] - 0s 4ms/step - loss: 0.5216 - accuracy: 0.8485\n",
      "Epoch 195/200\n",
      "4/4 [==============================] - 0s 5ms/step - loss: 0.5211 - accuracy: 0.8485\n",
      "Epoch 196/200\n",
      "4/4 [==============================] - 0s 3ms/step - loss: 0.5205 - accuracy: 0.8485\n",
      "Epoch 197/200\n",
      "4/4 [==============================] - 0s 4ms/step - loss: 0.5200 - accuracy: 0.8485\n",
      "Epoch 198/200\n",
      "4/4 [==============================] - 0s 4ms/step - loss: 0.5194 - accuracy: 0.8485\n",
      "Epoch 199/200\n",
      "4/4 [==============================] - 0s 4ms/step - loss: 0.5188 - accuracy: 0.8485\n",
      "Epoch 200/200\n",
      "4/4 [==============================] - 0s 4ms/step - loss: 0.5183 - accuracy: 0.8485\n"
     ]
    },
    {
     "data": {
      "text/plain": [
       "<keras.callbacks.History at 0x7f65b47bdeb0>"
      ]
     },
     "execution_count": 113,
     "metadata": {},
     "output_type": "execute_result"
    }
   ],
   "source": [
    "rede_neural.fit(X_train, y_train, epochs=200)"
   ]
  },
  {
   "cell_type": "code",
   "execution_count": 114,
   "id": "07a63075",
   "metadata": {},
   "outputs": [
    {
     "data": {
      "text/plain": [
       "array([[ 7.80000000e-01,  1.17016129e+01,  1.45480000e+02],\n",
       "       [ 5.90000000e-01,  7.33064516e+00,  1.47710000e+02],\n",
       "       [ 1.30000000e-01,  6.50000000e+00,  1.39400000e+02],\n",
       "       [ 1.00000000e-02,  1.10000000e+01,  1.49850000e+02],\n",
       "       [ 4.80000000e-01,  6.50000000e+00,  1.35770000e+02],\n",
       "       [ 7.90000000e-01,  1.37000000e+01,  1.38530000e+02],\n",
       "       [ 1.50000000e-01,  1.21833333e+01,  1.41750000e+02],\n",
       "       [ 5.30000000e-01,  3.85000000e+00,  1.37780000e+02],\n",
       "       [ 4.30000000e-01,  8.17741935e+00,  1.47460000e+02],\n",
       "       [ 3.60000000e-01,  8.98387097e+00,  1.44560000e+02],\n",
       "       [ 4.60000000e-01,  1.10000000e+01,  1.47140000e+02],\n",
       "       [ 3.80000000e-01,  1.32661290e+01,  1.28470000e+02],\n",
       "       [ 5.30000000e-01,  1.20000000e+01,  1.42300000e+02],\n",
       "       [ 6.40000000e-01,  2.00000000e+00,  1.37120000e+02],\n",
       "       [ 2.20000000e-01,  6.50000000e+00,  1.39080000e+02],\n",
       "       [ 2.40000000e-01,  2.04032258e+00,  1.35650000e+02],\n",
       "       [ 7.30000000e-01,  8.86290323e+00,  1.41960000e+02],\n",
       "       [ 7.70000000e-01,  1.18000000e+01,  1.39890000e+02],\n",
       "       [-2.10000000e-01,  6.50000000e+00,  1.37660000e+02],\n",
       "       [ 7.10000000e-01,  1.27666667e+01,  1.42420000e+02],\n",
       "       [ 8.00000000e-02,  1.42500000e+01,  1.33870000e+02],\n",
       "       [ 4.20000000e-01,  1.10161290e+01,  1.49700000e+02],\n",
       "       [ 8.90000000e-01,  2.00000000e+00,  1.38160000e+02],\n",
       "       [ 1.60000000e-01,  1.23387097e+01,  1.45190000e+02],\n",
       "       [ 6.40000000e-01,  9.45000000e+00,  1.39850000e+02],\n",
       "       [ 5.10000000e-01,  5.00000000e+00,  1.38870000e+02],\n",
       "       [ 2.60000000e-01,  2.67500000e+03,  1.25830000e+02],\n",
       "       [ 7.40000000e-01,  1.32500000e+01,  1.39810000e+02],\n",
       "       [ 1.32000000e+00,  1.26854839e+01,  1.49500000e+02],\n",
       "       [ 9.20000000e-01,  1.00000000e+01,  1.45770000e+02],\n",
       "       [ 2.50000000e-01,  2.00000000e+00,  1.31590000e+02],\n",
       "       [ 5.10000000e-01,  1.12500000e+01,  1.44920000e+02],\n",
       "       [ 5.40000000e-01,  1.42500000e+01,  1.38060000e+02],\n",
       "       [ 5.70000000e-01,  7.50000000e+00,  1.41600000e+02],\n",
       "       [ 5.50000000e-01,  7.35833333e+00,  1.49790000e+02],\n",
       "       [ 6.00000000e-01,  7.25000000e+00,  1.36140000e+02],\n",
       "       [ 1.90000000e-01,  9.25000000e+00,  1.40140000e+02],\n",
       "       [ 5.60000000e-01,  1.07903226e+01,  1.33340000e+02],\n",
       "       [ 1.50000000e-01,  6.50000000e+00,  1.36330000e+02],\n",
       "       [ 1.27000000e+00,  1.42500000e+01,  1.28250000e+02],\n",
       "       [ 9.20000000e-01,  1.07500000e+01,  1.49030000e+02],\n",
       "       [ 3.30000000e-01,  6.50000000e+00,  1.41060000e+02],\n",
       "       [-3.10000000e-01,  3.75000000e+00,  1.18350000e+02],\n",
       "       [ 2.50000000e-01,  1.22500000e+01,  1.41900000e+02],\n",
       "       [ 1.24000000e+00,  1.19112903e+01,  1.38730000e+02],\n",
       "       [ 3.00000000e-01,  1.37500000e+01,  1.33340000e+02],\n",
       "       [ 2.40000000e-01,  1.00887097e+01,  1.38420000e+02],\n",
       "       [ 1.00000000e-02,  6.50000000e+00,  1.35120000e+02],\n",
       "       [ 5.50000000e-01,  1.02580645e+01,  1.42720000e+02],\n",
       "       [ 8.60000000e-01,  7.25000000e+00,  1.39320000e+02],\n",
       "       [ 1.40000000e-01,  1.16500000e+01,  1.33750000e+02],\n",
       "       [ 5.70000000e-01,  1.10000000e+01,  1.48120000e+02],\n",
       "       [ 9.60000000e-01,  1.42500000e+01,  1.36220000e+02],\n",
       "       [ 1.00000000e-01,  5.48387097e+00,  1.42940000e+02],\n",
       "       [-4.00000000e-02,  5.80000000e+00,  1.38330000e+02],\n",
       "       [ 2.50000000e-01,  1.10000000e+01,  1.48270000e+02],\n",
       "       [ 3.60000000e-01,  2.25000000e+00,  1.35840000e+02],\n",
       "       [ 5.70000000e-01,  6.50000000e+00,  1.39690000e+02],\n",
       "       [ 1.60000000e-01,  8.48333333e+00,  1.34850000e+02],\n",
       "       [ 1.15000000e+00,  4.67741935e+00,  1.37420000e+02],\n",
       "       [ 3.10000000e-01,  2.75000000e+00,  1.38600000e+02],\n",
       "       [ 3.50000000e-01,  9.00000000e+00,  1.47270000e+02],\n",
       "       [ 4.70000000e-01,  1.20000000e+01,  1.43230000e+02],\n",
       "       [ 4.30000000e-01,  1.18064516e+01,  1.42020000e+02],\n",
       "       [ 3.70000000e-01,  7.53225806e+00,  1.47030000e+02],\n",
       "       [ 6.70000000e-01,  1.09833333e+01,  1.47690000e+02],\n",
       "       [ 2.90000000e-01,  7.00000000e+00,  1.32110000e+02],\n",
       "       [ 5.40000000e-01,  9.55000000e+00,  1.47790000e+02],\n",
       "       [ 8.60000000e-01,  2.00000000e+00,  1.39830000e+02],\n",
       "       [ 1.25000000e+00,  6.44354839e+00,  1.38460000e+02],\n",
       "       [ 7.80000000e-01,  1.42500000e+01,  1.33540000e+02],\n",
       "       [ 3.10000000e-01,  1.12500000e+01,  1.35990000e+02],\n",
       "       [ 7.90000000e-01,  7.25000000e+00,  1.39520000e+02],\n",
       "       [ 2.50000000e-01,  4.29310345e+00,  1.34380000e+02],\n",
       "       [-9.00000000e-02,  6.50000000e+00,  1.43420000e+02],\n",
       "       [ 2.40000000e-01,  8.54838710e+00,  1.51810000e+02],\n",
       "       [ 4.70000000e-01,  7.25000000e+00,  1.48010000e+02],\n",
       "       [ 4.00000000e-01,  1.10000000e+01,  1.40880000e+02],\n",
       "       [ 2.20000000e-01,  1.42500000e+01,  1.40830000e+02],\n",
       "       [ 5.20000000e-01,  1.42500000e+01,  1.36720000e+02],\n",
       "       [ 3.50000000e-01,  1.42500000e+01,  1.35270000e+02],\n",
       "       [ 3.30000000e-01,  1.28392857e+01,  1.29390000e+02],\n",
       "       [ 4.50000000e-01,  6.50000000e+00,  1.39840000e+02],\n",
       "       [ 2.10000000e-01,  4.50000000e+00,  1.33940000e+02],\n",
       "       [ 2.10000000e-01,  9.91935484e+00,  1.46350000e+02],\n",
       "       [ 1.26000000e+00,  6.50000000e+00,  1.36950000e+02],\n",
       "       [ 1.80000000e-01,  1.40000000e+01,  1.32370000e+02],\n",
       "       [ 6.20000000e-01,  1.37822581e+01,  1.43130000e+02],\n",
       "       [ 2.60000000e-01,  8.00000000e+00,  1.44870000e+02],\n",
       "       [ 1.10000000e-01,  6.00000000e+00,  1.41940000e+02],\n",
       "       [ 7.50000000e-01,  6.50000000e+00,  1.39040000e+02],\n",
       "       [ 4.20000000e-01,  8.10483871e+00,  1.36060000e+02],\n",
       "       [ 3.20000000e-01,  6.50000000e+00,  1.33580000e+02],\n",
       "       [ 1.90000000e-01,  6.50000000e+00,  1.43150000e+02],\n",
       "       [ 9.00000000e-02,  6.66935484e+00,  1.41560000e+02],\n",
       "       [ 2.60000000e-01,  1.41532258e+01,  1.32720000e+02],\n",
       "       [ 8.30000000e-01,  1.09435484e+01,  1.32660000e+02],\n",
       "       [ 7.00000000e-02,  4.04032258e+00,  1.36040000e+02],\n",
       "       [-3.80000000e-01,  3.14516129e+00,  1.19450000e+02]])"
      ]
     },
     "execution_count": 114,
     "metadata": {},
     "output_type": "execute_result"
    }
   ],
   "source": [
    "X_train"
   ]
  },
  {
   "cell_type": "code",
   "execution_count": 115,
   "id": "455ecc57",
   "metadata": {},
   "outputs": [
    {
     "name": "stdout",
     "output_type": "stream",
     "text": [
      "2/2 [==============================] - 0s 4ms/step\n"
     ]
    },
    {
     "data": {
      "text/plain": [
       "array([[0.6577416],\n",
       "       [0.6577416],\n",
       "       [0.6577416],\n",
       "       [0.6577416],\n",
       "       [0.6577416],\n",
       "       [0.6577416],\n",
       "       [0.6577416],\n",
       "       [0.6577416],\n",
       "       [0.6577416],\n",
       "       [0.6577416],\n",
       "       [0.6577416],\n",
       "       [0.6577416],\n",
       "       [0.6577416],\n",
       "       [0.6577416],\n",
       "       [0.6577416],\n",
       "       [0.6577416],\n",
       "       [0.6577416],\n",
       "       [0.6577416],\n",
       "       [0.6577416],\n",
       "       [0.6577416],\n",
       "       [0.6577416],\n",
       "       [0.6577416],\n",
       "       [0.6577416],\n",
       "       [0.6577416],\n",
       "       [0.6577416],\n",
       "       [0.6577416],\n",
       "       [0.6577416],\n",
       "       [0.6577416],\n",
       "       [0.6577416],\n",
       "       [0.6577416],\n",
       "       [0.6577416],\n",
       "       [0.6577416],\n",
       "       [0.6577416]], dtype=float32)"
      ]
     },
     "execution_count": 115,
     "metadata": {},
     "output_type": "execute_result"
    }
   ],
   "source": [
    "y_pred = rede_neural.predict(X_test)\n",
    "y_pred"
   ]
  },
  {
   "cell_type": "code",
   "execution_count": 116,
   "id": "f89a420e",
   "metadata": {},
   "outputs": [
    {
     "data": {
      "text/plain": [
       "array([[ True],\n",
       "       [ True],\n",
       "       [ True],\n",
       "       [ True],\n",
       "       [ True],\n",
       "       [ True],\n",
       "       [ True],\n",
       "       [ True],\n",
       "       [ True],\n",
       "       [ True],\n",
       "       [ True],\n",
       "       [ True],\n",
       "       [ True],\n",
       "       [ True],\n",
       "       [ True],\n",
       "       [ True],\n",
       "       [ True],\n",
       "       [ True],\n",
       "       [ True],\n",
       "       [ True],\n",
       "       [ True],\n",
       "       [ True],\n",
       "       [ True],\n",
       "       [ True],\n",
       "       [ True],\n",
       "       [ True],\n",
       "       [ True],\n",
       "       [ True],\n",
       "       [ True],\n",
       "       [ True],\n",
       "       [ True],\n",
       "       [ True],\n",
       "       [ True]])"
      ]
     },
     "execution_count": 116,
     "metadata": {},
     "output_type": "execute_result"
    }
   ],
   "source": [
    "y_pred = (y_pred >= 0.5)\n",
    "y_pred"
   ]
  },
  {
   "cell_type": "code",
   "execution_count": 117,
   "id": "e0517fcc",
   "metadata": {},
   "outputs": [
    {
     "data": {
      "text/plain": [
       "array([[ 0,  8],\n",
       "       [ 0, 25]])"
      ]
     },
     "execution_count": 117,
     "metadata": {},
     "output_type": "execute_result"
    }
   ],
   "source": [
    "from sklearn.metrics import confusion_matrix\n",
    "cm = confusion_matrix(y_test, y_pred)\n",
    "cm"
   ]
  },
  {
   "cell_type": "code",
   "execution_count": 118,
   "id": "677c4c95",
   "metadata": {},
   "outputs": [
    {
     "data": {
      "image/png": "[encoded data removed]",
      "text/plain": [
       "<Figure size 640x480 with 2 Axes>"
      ]
     },
     "metadata": {},
     "output_type": "display_data"
    }
   ],
   "source": [
    "import seaborn as sns\n",
    "sns.heatmap(cm, annot=True);"
   ]
  },
  {
   "cell_type": "code",
   "execution_count": 119,
   "id": "43d830ad",
   "metadata": {},
   "outputs": [
    {
     "name": "stdout",
     "output_type": "stream",
     "text": [
      "              precision    recall  f1-score   support\n",
      "\n",
      "           0       0.00      0.00      0.00         8\n",
      "           1       0.76      1.00      0.86        25\n",
      "\n",
      "    accuracy                           0.76        33\n",
      "   macro avg       0.38      0.50      0.43        33\n",
      "weighted avg       0.57      0.76      0.65        33\n",
      "\n"
     ]
    },
    {
     "name": "stderr",
     "output_type": "stream",
     "text": [
      "/home/andre/anaconda3/lib/python3.8/site-packages/sklearn/metrics/_classification.py:1318: UndefinedMetricWarning: Precision and F-score are ill-defined and being set to 0.0 in labels with no predicted samples. Use `zero_division` parameter to control this behavior.\n",
      "  _warn_prf(average, modifier, msg_start, len(result))\n",
      "/home/andre/anaconda3/lib/python3.8/site-packages/sklearn/metrics/_classification.py:1318: UndefinedMetricWarning: Precision and F-score are ill-defined and being set to 0.0 in labels with no predicted samples. Use `zero_division` parameter to control this behavior.\n",
      "  _warn_prf(average, modifier, msg_start, len(result))\n",
      "/home/andre/anaconda3/lib/python3.8/site-packages/sklearn/metrics/_classification.py:1318: UndefinedMetricWarning: Precision and F-score are ill-defined and being set to 0.0 in labels with no predicted samples. Use `zero_division` parameter to control this behavior.\n",
      "  _warn_prf(average, modifier, msg_start, len(result))\n"
     ]
    }
   ],
   "source": [
    "from sklearn.metrics import classification_report\n",
    "print(classification_report(y_test, y_pred))"
   ]
  },
  {
   "cell_type": "code",
   "execution_count": 120,
   "id": "0a8d60f1",
   "metadata": {},
   "outputs": [],
   "source": [
    "# considerando tendẽncia de alta mesmo com correções, mas levando em consideração os fundos e topos ascendentes"
   ]
  },
  {
   "cell_type": "code",
   "execution_count": null,
   "id": "8db056ed",
   "metadata": {},
   "outputs": [],
   "source": []
  }
 ],
 "metadata": {
  "kernelspec": {
   "display_name": "Python 3 (ipykernel)",
   "language": "python",
   "name": "python3"
  },
  "language_info": {
   "codemirror_mode": {
    "name": "ipython",
    "version": 3
   },
   "file_extension": ".py",
   "mimetype": "text/x-python",
   "name": "python",
   "nbconvert_exporter": "python",
   "pygments_lexer": "ipython3",
   "version": "3.8.15"
  }
 },
 "nbformat": 4,
 "nbformat_minor": 5
}
